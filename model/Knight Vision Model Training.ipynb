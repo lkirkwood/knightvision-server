{
  "cells": [
    {
      "cell_type": "markdown",
      "id": "kQp0CQrLWjJF",
      "metadata": {
        "id": "kQp0CQrLWjJF"
      },
      "source": [
        "# **Knight Vision - YOLOv8 Model Training Notebook**\n",
        "---\n",
        "\n",
        "This notebook trains the official YOLOv8 model used for chess piece detection as part of the Knight Vision system.\n",
        "\n",
        "### **Project Overview**\n",
        "\n",
        "- **Subject:** Deep Learning and Convolutional Neural Network (42028)\n",
        "- **Project:** Knight Vision - Chess Board & Piece Detection\n",
        "- **Model:** YOLOv8 (Large variant - `yolov8l`)\n",
        "- **Dataset:** Custom dataset (augmented and manually corrected), prepared and split into `train` and `val` directories\n",
        "- **Configuration:** Predefined `data.yaml` file for dataset paths and class names\n",
        "- **Training Resolution:** 640x640\n",
        "- **Epochs:** 50\n",
        "\n",
        "This notebook is intended to exactly replicate the training pipeline used for the final Knight Vision chess detector model and can be used to retrain or further tune the model easily from the prepackaged dataset and config.\n",
        "\n",
        "<br>\n",
        "\n",
        "### **Workflow Overview**\n",
        "\n",
        "1. Load the dataset configuration (`data.yaml`) which points to the existing dataset and split folders.\n",
        "2. Initialise the YOLOv8 model architecture (using `yolov8l.yaml` to train from scratch or `yolov8l.pt` to fine-tune).\n",
        "3. Train the model for 50 epochs.\n",
        "4. Validate after training.\n",
        "5. Optionally test on new images after training (optional cell).\n"
      ]
    },
    {
      "cell_type": "markdown",
      "id": "aBWkL1tP3Fn4",
      "metadata": {
        "id": "aBWkL1tP3Fn4"
      },
      "source": [
        "---\n",
        "## **1. Initial Set Up**"
      ]
    },
    {
      "cell_type": "markdown",
      "id": "IzoptgU-771W",
      "metadata": {
        "id": "IzoptgU-771W"
      },
      "source": [
        "#### **1.1. Install Dependencies**"
      ]
    },
    {
      "cell_type": "code",
      "execution_count": null,
      "id": "an3AJp46yaIK",
      "metadata": {
        "colab": {
          "base_uri": "https://localhost:8080/"
        },
        "id": "an3AJp46yaIK",
        "outputId": "99e8aff3-0455-4d1b-dcf9-bc8f3b133773"
      },
      "outputs": [
        {
          "name": "stdout",
          "output_type": "stream",
          "text": [
            "Requirement already satisfied: roboflow in d:\\42028 deep learning & convolutional neural network\\a3\\venv\\lib\\site-packages (1.1.61)\n",
            "Requirement already satisfied: certifi in d:\\42028 deep learning & convolutional neural network\\a3\\venv\\lib\\site-packages (from roboflow) (2025.1.31)\n",
            "Requirement already satisfied: idna==3.7 in d:\\42028 deep learning & convolutional neural network\\a3\\venv\\lib\\site-packages (from roboflow) (3.7)\n",
            "Requirement already satisfied: cycler in d:\\42028 deep learning & convolutional neural network\\a3\\venv\\lib\\site-packages (from roboflow) (0.12.1)\n",
            "Requirement already satisfied: kiwisolver>=1.3.1 in d:\\42028 deep learning & convolutional neural network\\a3\\venv\\lib\\site-packages (from roboflow) (1.4.8)\n",
            "Requirement already satisfied: matplotlib in d:\\42028 deep learning & convolutional neural network\\a3\\venv\\lib\\site-packages (from roboflow) (3.10.1)\n",
            "Requirement already satisfied: numpy>=1.18.5 in d:\\42028 deep learning & convolutional neural network\\a3\\venv\\lib\\site-packages (from roboflow) (2.1.1)\n",
            "Requirement already satisfied: opencv-python-headless==4.10.0.84 in d:\\42028 deep learning & convolutional neural network\\a3\\venv\\lib\\site-packages (from roboflow) (4.10.0.84)\n",
            "Requirement already satisfied: Pillow>=7.1.2 in d:\\42028 deep learning & convolutional neural network\\a3\\venv\\lib\\site-packages (from roboflow) (11.2.1)\n",
            "Requirement already satisfied: pillow-heif>=0.18.0 in d:\\42028 deep learning & convolutional neural network\\a3\\venv\\lib\\site-packages (from roboflow) (0.22.0)\n",
            "Requirement already satisfied: python-dateutil in d:\\42028 deep learning & convolutional neural network\\a3\\venv\\lib\\site-packages (from roboflow) (2.9.0.post0)\n",
            "Requirement already satisfied: python-dotenv in d:\\42028 deep learning & convolutional neural network\\a3\\venv\\lib\\site-packages (from roboflow) (1.1.0)\n",
            "Requirement already satisfied: requests in d:\\42028 deep learning & convolutional neural network\\a3\\venv\\lib\\site-packages (from roboflow) (2.32.3)\n",
            "Requirement already satisfied: six in d:\\42028 deep learning & convolutional neural network\\a3\\venv\\lib\\site-packages (from roboflow) (1.17.0)\n",
            "Requirement already satisfied: urllib3>=1.26.6 in d:\\42028 deep learning & convolutional neural network\\a3\\venv\\lib\\site-packages (from roboflow) (2.4.0)\n",
            "Requirement already satisfied: tqdm>=4.41.0 in d:\\42028 deep learning & convolutional neural network\\a3\\venv\\lib\\site-packages (from roboflow) (4.67.1)\n",
            "Requirement already satisfied: PyYAML>=5.3.1 in d:\\42028 deep learning & convolutional neural network\\a3\\venv\\lib\\site-packages (from roboflow) (6.0.2)\n",
            "Requirement already satisfied: requests-toolbelt in d:\\42028 deep learning & convolutional neural network\\a3\\venv\\lib\\site-packages (from roboflow) (1.0.0)\n",
            "Requirement already satisfied: filetype in d:\\42028 deep learning & convolutional neural network\\a3\\venv\\lib\\site-packages (from roboflow) (1.2.0)\n",
            "Requirement already satisfied: colorama in d:\\42028 deep learning & convolutional neural network\\a3\\venv\\lib\\site-packages (from tqdm>=4.41.0->roboflow) (0.4.6)\n",
            "Requirement already satisfied: contourpy>=1.0.1 in d:\\42028 deep learning & convolutional neural network\\a3\\venv\\lib\\site-packages (from matplotlib->roboflow) (1.3.2)\n",
            "Requirement already satisfied: fonttools>=4.22.0 in d:\\42028 deep learning & convolutional neural network\\a3\\venv\\lib\\site-packages (from matplotlib->roboflow) (4.57.0)\n",
            "Requirement already satisfied: packaging>=20.0 in d:\\42028 deep learning & convolutional neural network\\a3\\venv\\lib\\site-packages (from matplotlib->roboflow) (25.0)\n",
            "Requirement already satisfied: pyparsing>=2.3.1 in d:\\42028 deep learning & convolutional neural network\\a3\\venv\\lib\\site-packages (from matplotlib->roboflow) (3.2.3)\n",
            "Requirement already satisfied: charset-normalizer<4,>=2 in d:\\42028 deep learning & convolutional neural network\\a3\\venv\\lib\\site-packages (from requests->roboflow) (3.4.1)\n",
            "Note: you may need to restart the kernel to use updated packages.\n",
            "Requirement already satisfied: ultralytics in d:\\42028 deep learning & convolutional neural network\\a3\\venv\\lib\\site-packages (8.3.113)\n",
            "Requirement already satisfied: numpy<=2.1.1,>=1.23.0 in d:\\42028 deep learning & convolutional neural network\\a3\\venv\\lib\\site-packages (from ultralytics) (2.1.1)\n",
            "Requirement already satisfied: matplotlib>=3.3.0 in d:\\42028 deep learning & convolutional neural network\\a3\\venv\\lib\\site-packages (from ultralytics) (3.10.1)\n",
            "Requirement already satisfied: opencv-python>=4.6.0 in d:\\42028 deep learning & convolutional neural network\\a3\\venv\\lib\\site-packages (from ultralytics) (4.11.0.86)\n",
            "Requirement already satisfied: pillow>=7.1.2 in d:\\42028 deep learning & convolutional neural network\\a3\\venv\\lib\\site-packages (from ultralytics) (11.2.1)\n",
            "Requirement already satisfied: pyyaml>=5.3.1 in d:\\42028 deep learning & convolutional neural network\\a3\\venv\\lib\\site-packages (from ultralytics) (6.0.2)\n",
            "Requirement already satisfied: requests>=2.23.0 in d:\\42028 deep learning & convolutional neural network\\a3\\venv\\lib\\site-packages (from ultralytics) (2.32.3)\n",
            "Requirement already satisfied: scipy>=1.4.1 in d:\\42028 deep learning & convolutional neural network\\a3\\venv\\lib\\site-packages (from ultralytics) (1.15.2)\n",
            "Requirement already satisfied: torch>=1.8.0 in d:\\42028 deep learning & convolutional neural network\\a3\\venv\\lib\\site-packages (from ultralytics) (2.5.1+cu121)\n",
            "Requirement already satisfied: torchvision>=0.9.0 in d:\\42028 deep learning & convolutional neural network\\a3\\venv\\lib\\site-packages (from ultralytics) (0.20.1+cu121)\n",
            "Requirement already satisfied: tqdm>=4.64.0 in d:\\42028 deep learning & convolutional neural network\\a3\\venv\\lib\\site-packages (from ultralytics) (4.67.1)\n",
            "Requirement already satisfied: psutil in d:\\42028 deep learning & convolutional neural network\\a3\\venv\\lib\\site-packages (from ultralytics) (7.0.0)\n",
            "Requirement already satisfied: py-cpuinfo in d:\\42028 deep learning & convolutional neural network\\a3\\venv\\lib\\site-packages (from ultralytics) (9.0.0)\n",
            "Requirement already satisfied: pandas>=1.1.4 in d:\\42028 deep learning & convolutional neural network\\a3\\venv\\lib\\site-packages (from ultralytics) (2.2.3)\n",
            "Requirement already satisfied: seaborn>=0.11.0 in d:\\42028 deep learning & convolutional neural network\\a3\\venv\\lib\\site-packages (from ultralytics) (0.13.2)\n",
            "Requirement already satisfied: ultralytics-thop>=2.0.0 in d:\\42028 deep learning & convolutional neural network\\a3\\venv\\lib\\site-packages (from ultralytics) (2.0.14)\n",
            "Requirement already satisfied: contourpy>=1.0.1 in d:\\42028 deep learning & convolutional neural network\\a3\\venv\\lib\\site-packages (from matplotlib>=3.3.0->ultralytics) (1.3.2)\n",
            "Requirement already satisfied: cycler>=0.10 in d:\\42028 deep learning & convolutional neural network\\a3\\venv\\lib\\site-packages (from matplotlib>=3.3.0->ultralytics) (0.12.1)\n",
            "Requirement already satisfied: fonttools>=4.22.0 in d:\\42028 deep learning & convolutional neural network\\a3\\venv\\lib\\site-packages (from matplotlib>=3.3.0->ultralytics) (4.57.0)\n",
            "Requirement already satisfied: kiwisolver>=1.3.1 in d:\\42028 deep learning & convolutional neural network\\a3\\venv\\lib\\site-packages (from matplotlib>=3.3.0->ultralytics) (1.4.8)\n",
            "Requirement already satisfied: packaging>=20.0 in d:\\42028 deep learning & convolutional neural network\\a3\\venv\\lib\\site-packages (from matplotlib>=3.3.0->ultralytics) (25.0)\n",
            "Requirement already satisfied: pyparsing>=2.3.1 in d:\\42028 deep learning & convolutional neural network\\a3\\venv\\lib\\site-packages (from matplotlib>=3.3.0->ultralytics) (3.2.3)\n",
            "Requirement already satisfied: python-dateutil>=2.7 in d:\\42028 deep learning & convolutional neural network\\a3\\venv\\lib\\site-packages (from matplotlib>=3.3.0->ultralytics) (2.9.0.post0)\n",
            "Requirement already satisfied: pytz>=2020.1 in d:\\42028 deep learning & convolutional neural network\\a3\\venv\\lib\\site-packages (from pandas>=1.1.4->ultralytics) (2025.2)\n",
            "Requirement already satisfied: tzdata>=2022.7 in d:\\42028 deep learning & convolutional neural network\\a3\\venv\\lib\\site-packages (from pandas>=1.1.4->ultralytics) (2025.2)\n",
            "Requirement already satisfied: charset-normalizer<4,>=2 in d:\\42028 deep learning & convolutional neural network\\a3\\venv\\lib\\site-packages (from requests>=2.23.0->ultralytics) (3.4.1)\n",
            "Requirement already satisfied: idna<4,>=2.5 in d:\\42028 deep learning & convolutional neural network\\a3\\venv\\lib\\site-packages (from requests>=2.23.0->ultralytics) (3.7)\n",
            "Requirement already satisfied: urllib3<3,>=1.21.1 in d:\\42028 deep learning & convolutional neural network\\a3\\venv\\lib\\site-packages (from requests>=2.23.0->ultralytics) (2.4.0)\n",
            "Requirement already satisfied: certifi>=2017.4.17 in d:\\42028 deep learning & convolutional neural network\\a3\\venv\\lib\\site-packages (from requests>=2.23.0->ultralytics) (2025.1.31)\n",
            "Requirement already satisfied: filelock in d:\\42028 deep learning & convolutional neural network\\a3\\venv\\lib\\site-packages (from torch>=1.8.0->ultralytics) (3.18.0)\n",
            "Requirement already satisfied: typing-extensions>=4.8.0 in d:\\42028 deep learning & convolutional neural network\\a3\\venv\\lib\\site-packages (from torch>=1.8.0->ultralytics) (4.13.2)\n",
            "Requirement already satisfied: networkx in d:\\42028 deep learning & convolutional neural network\\a3\\venv\\lib\\site-packages (from torch>=1.8.0->ultralytics) (3.4.2)\n",
            "Requirement already satisfied: jinja2 in d:\\42028 deep learning & convolutional neural network\\a3\\venv\\lib\\site-packages (from torch>=1.8.0->ultralytics) (3.1.6)\n",
            "Requirement already satisfied: fsspec in d:\\42028 deep learning & convolutional neural network\\a3\\venv\\lib\\site-packages (from torch>=1.8.0->ultralytics) (2025.3.2)\n",
            "Requirement already satisfied: setuptools in d:\\42028 deep learning & convolutional neural network\\a3\\venv\\lib\\site-packages (from torch>=1.8.0->ultralytics) (79.0.0)\n",
            "Requirement already satisfied: sympy==1.13.1 in d:\\42028 deep learning & convolutional neural network\\a3\\venv\\lib\\site-packages (from torch>=1.8.0->ultralytics) (1.13.1)\n",
            "Requirement already satisfied: mpmath<1.4,>=1.1.0 in d:\\42028 deep learning & convolutional neural network\\a3\\venv\\lib\\site-packages (from sympy==1.13.1->torch>=1.8.0->ultralytics) (1.3.0)\n",
            "Requirement already satisfied: colorama in d:\\42028 deep learning & convolutional neural network\\a3\\venv\\lib\\site-packages (from tqdm>=4.64.0->ultralytics) (0.4.6)\n",
            "Requirement already satisfied: six>=1.5 in d:\\42028 deep learning & convolutional neural network\\a3\\venv\\lib\\site-packages (from python-dateutil>=2.7->matplotlib>=3.3.0->ultralytics) (1.17.0)\n",
            "Requirement already satisfied: MarkupSafe>=2.0 in d:\\42028 deep learning & convolutional neural network\\a3\\venv\\lib\\site-packages (from jinja2->torch>=1.8.0->ultralytics) (3.0.2)\n",
            "Note: you may need to restart the kernel to use updated packages.\n"
          ]
        }
      ],
      "source": [
        "%pip install ultralytics\n",
        "%pip install matplotlib\n",
        "%pip install pillow\n",
        "%pip install tqdm"
      ]
    },
    {
      "cell_type": "markdown",
      "id": "xiUyi39-Ga-K",
      "metadata": {
        "id": "xiUyi39-Ga-K"
      },
      "source": [
        "#### **1.2. Import Necessary Libaries/Packages**"
      ]
    },
    {
      "cell_type": "code",
      "execution_count": null,
      "id": "ZnyRfDmyZU0a",
      "metadata": {
        "colab": {
          "base_uri": "https://localhost:8080/"
        },
        "id": "ZnyRfDmyZU0a",
        "outputId": "e1628a8d-1960-4039-c4e3-fb313c8fe873"
      },
      "outputs": [],
      "source": [
        "from ultralytics import YOLO\n",
        "import matplotlib.pyplot as plt\n",
        "from PIL import Image\n",
        "import os\n",
        "import yaml\n",
        "from tqdm import tqdm"
      ]
    },
    {
      "cell_type": "markdown",
      "id": "632161b7",
      "metadata": {},
      "source": [
        "#### **1.3. Load Dataset Configuration**"
      ]
    },
    {
      "cell_type": "code",
      "execution_count": null,
      "id": "51ff153b",
      "metadata": {},
      "outputs": [],
      "source": [
        "dataset_dir = \"./chess_yolo_dataset\"\n",
        "\n",
        "# Load the dataset config (data.yaml)\n",
        "config_path = os.path.join(dataset_dir, \"data.yaml\")\n",
        "with open(config_path, \"r\") as f:\n",
        "    data_config = yaml.safe_load(f)\n",
        "\n",
        "print(\"Successfully Loaded Dataset Config:\")\n",
        "print(data_config)"
      ]
    },
    {
      "cell_type": "markdown",
      "id": "ce2656f5",
      "metadata": {
        "id": "ce2656f5"
      },
      "source": [
        "---\n",
        "## **2. Initialise YOLOv8 Model**"
      ]
    },
    {
      "cell_type": "code",
      "execution_count": null,
      "id": "8a3826bc",
      "metadata": {},
      "outputs": [],
      "source": [
        "model = YOLO(\"yolov8l.pt\")"
      ]
    },
    {
      "cell_type": "markdown",
      "id": "515726c6",
      "metadata": {},
      "source": [
        "---\n",
        "## **3. Train the Model**"
      ]
    },
    {
      "cell_type": "code",
      "execution_count": null,
      "id": "2cf7df2b",
      "metadata": {},
      "outputs": [],
      "source": [
        "model.train(\n",
        "    data=config_path,\n",
        "    epochs=100,\n",
        "    imgsz=640,\n",
        "    batch=12,\n",
        "    patience=15,\n",
        "    project=\"yolo_training_logs\",\n",
        "    name=\"yolov8l_chess\",\n",
        "    exist_ok=True\n",
        ")"
      ]
    },
    {
      "cell_type": "markdown",
      "id": "32d8cfac",
      "metadata": {},
      "source": [
        "> **Notes:**\n",
        "> - The model checkpoints and training logs will be saved under `knight_vision_training/yolov8l_chess/` folder.\n",
        "> - We used imgsz=416 for consistency with the input size used during data preparation and inference (to match detection grid)."
      ]
    },
    {
      "cell_type": "markdown",
      "id": "cab2ec98",
      "metadata": {},
      "source": [
        "---\n",
        "## **4. Visualise Training Results**"
      ]
    },
    {
      "cell_type": "code",
      "execution_count": null,
      "id": "9e590311",
      "metadata": {},
      "outputs": [],
      "source": [
        "# Load the Trained Model Results\n",
        "results_folder = \"./knight_vision_training/yolov8l_chess\"\n",
        "results_file = os.path.join(results_folder, \"results.png\")\n",
        "\n",
        "# Show the Results\n",
        "if os.path.exists(results_file):\n",
        "    img = Image.open(results_file)\n",
        "    plt.imshow(img)\n",
        "    plt.axis('off')\n",
        "    plt.title(\"Training Results\")\n",
        "    plt.show()\n",
        "else:\n",
        "    print(\"Results Image Not Found -> Training may still be running or is incomplete.\")"
      ]
    },
    {
      "cell_type": "markdown",
      "id": "be0eae89",
      "metadata": {},
      "source": [
        "---\n",
        "## **5. Load Final Trained Model and Test (Sanity Check)**"
      ]
    },
    {
      "cell_type": "code",
      "execution_count": null,
      "id": "f1fcd2c8",
      "metadata": {},
      "outputs": [],
      "source": [
        "trained_model = YOLO(os.path.join(results_folder, \"weights\", \"best.pt\"))\n",
        "\n",
        "test_img_path = \"./test_board.jpg\"\n",
        "\n",
        "if os.path.exists(test_img_path):\n",
        "    trained_model.predict(test_img_path, imgsz=416)\n",
        "else:\n",
        "    print(\"No Test Image Provided.\")"
      ]
    }
  ],
  "metadata": {
    "accelerator": "GPU",
    "colab": {
      "gpuType": "T4",
      "provenance": []
    },
    "kernelspec": {
      "display_name": "venv",
      "language": "python",
      "name": "python3"
    },
    "language_info": {
      "codemirror_mode": {
        "name": "ipython",
        "version": 3
      },
      "file_extension": ".py",
      "mimetype": "text/x-python",
      "name": "python",
      "nbconvert_exporter": "python",
      "pygments_lexer": "ipython3",
      "version": "3.12.10"
    }
  },
  "nbformat": 4,
  "nbformat_minor": 5
}
